{
 "cells": [
  {
   "cell_type": "markdown",
   "metadata": {},
   "source": [
    "# [Algoritmos e Estruturas de Dados 2020 2021](https://elearning.ual.pt/course/view.php?id=1787) - [UAL](https://autonoma.pt/)\n",
    "\n",
    "## Laboratório 2"
   ]
  },
  {
   "cell_type": "markdown",
   "metadata": {},
   "source": [
    "### Datas\n",
    "\n",
    "| Evento                        | Data                 |\n",
    "| ----------------------------- | -------------------- |\n",
    "| Disponibilização de enunciado | 11/04/2021           |\n",
    "| Entrega                       | 25/04/2021, 23:59:59 |"
   ]
  },
  {
   "cell_type": "markdown",
   "metadata": {},
   "source": [
    "### Tarefas"
   ]
  },
  {
   "cell_type": "markdown",
   "metadata": {},
   "source": [
    "#### Tarefa 1\n",
    "\n",
    "Analise os seguintes algoritmos e indique, justificando, a sua complexidade temporal:\n",
    "\n",
    "- Identifique as variáveis utilizadas;\n",
    "- Indique a contagem de operações básicas."
   ]
  },
  {
   "cell_type": "code",
   "execution_count": 1,
   "metadata": {},
   "outputs": [],
   "source": [
    "def multiplicar_m_n(n):\n",
    "    n = n + 10\n",
    "    m = n * n\n",
    "    return m * n"
   ]
  },
  {
   "cell_type": "markdown",
   "metadata": {},
   "source": [
    "Resposta: \n",
    "variaveis: n ; m  \n",
    "contagem de operações: 3; (n+10) ,(n*n) ,(return (m*n)) \n",
    "complexidade: 2"
   ]
  },
  {
   "cell_type": "code",
   "execution_count": 2,
   "metadata": {},
   "outputs": [],
   "source": [
    "def somar_lista(lista):\n",
    "    n = len(lista)\n",
    "    for i in range(n):\n",
    "        lista[i] += 1\n",
    "    return lista"
   ]
  },
  {
   "cell_type": "markdown",
   "metadata": {},
   "source": [
    "Resposta:\n",
    "variaveis: n; lista; i\n",
    "contagem de operações: 2; (n = len(lista)), (lista[i] += 1)\n",
    "complexidade:"
   ]
  },
  {
   "cell_type": "code",
   "execution_count": 3,
   "metadata": {},
   "outputs": [],
   "source": [
    "def multiplicar_elementos(lista):\n",
    "    total = 1\n",
    "    for x in lista: \n",
    "        total *= x\n",
    "    return total"
   ]
  },
  {
   "cell_type": "markdown",
   "metadata": {},
   "source": [
    "Resposta:\n",
    "variaveis: lista; x ; total;\n",
    "contagem de operações: 2; (total = 1), (total *= x)\n",
    "complexidade:"
   ]
  },
  {
   "cell_type": "code",
   "execution_count": 4,
   "metadata": {},
   "outputs": [],
   "source": [
    "def encontrar_duplicados(lista):\n",
    "    n = len(lista)\n",
    "    for i in range(n-1):\n",
    "        for j in  range(i+1, n):\n",
    "            if lista[i] == lista[j]:\n",
    "                return True\n",
    "    return False"
   ]
  },
  {
   "cell_type": "markdown",
   "metadata": {},
   "source": [
    "Resposta:\n",
    "variaveis: n; lista; i; j\n",
    "contagem de operações: 2; (n= len(lista)), lista[i] == lista[j]\n",
    "complexidade:"
   ]
  },
  {
   "cell_type": "code",
   "execution_count": 5,
   "metadata": {},
   "outputs": [],
   "source": [
    "def fibonacci(n):\n",
    "    if n == 0:\n",
    "        return 0\n",
    "    if n == 1:\n",
    "        return 1\n",
    "    return fibonacci(n-1) + fibonacci(n-2)  "
   ]
  },
  {
   "cell_type": "markdown",
   "metadata": {},
   "source": [
    "Resposta:\n",
    "variaveis: n\n",
    "contagem de operações:?\n",
    "complexidade:\n"
   ]
  },
  {
   "cell_type": "markdown",
   "metadata": {},
   "source": [
    "## Tarefa 2\n",
    "Analise os seguintes algoritmos cujo objetivo é pesquisar um elemento dentro de uma lista e indique, justificando, o melhor e o pior caso de complexidade temporal."
   ]
  },
  {
   "cell_type": "code",
   "execution_count": 6,
   "metadata": {},
   "outputs": [],
   "source": [
    "def pesquisa_sequencial(elemento, lista): \n",
    "    for x in lista:\n",
    "        if x == elemento: #1 (sendo que ocorre de cada vez que o ciclo for executa)\n",
    "            return True  \n",
    "    return False "
   ]
  },
  {
   "cell_type": "markdown",
   "metadata": {},
   "source": [
    "Resposta: \n",
    "melhor caso : O(1)\n",
    "pior caso: O(n), sendo que n é o comprimento da lista"
   ]
  },
  {
   "cell_type": "code",
   "execution_count": 7,
   "metadata": {},
   "outputs": [],
   "source": [
    "def pesquisa_binaria(elemento, lista):\n",
    "    while len(lista) > 0: \n",
    "        meio = (len(lista))//2 #1\n",
    "        if lista[meio] == elemento:#1 \n",
    "            return True \n",
    "        elif elemento < lista[meio]: #1\n",
    "            lista = lista[:meio] #1\n",
    "        else:\n",
    "            lista = lista[meio + 1:] #1\n",
    "    return False "
   ]
  },
  {
   "cell_type": "markdown",
   "metadata": {},
   "source": [
    "Resposta:\n",
    "melhor caso:   O(2) -> O(1)\n",
    "pior caso: O(log(n)) "
   ]
  },
  {
   "cell_type": "markdown",
   "metadata": {},
   "source": [
    "#### Tarefa 3\n",
    "\n",
    "Desenvolva três algoritmos sobre listas numéricas:\n",
    "\n",
    "- Função `fun_1(l)`, com complexidade $O(log(n))$\n",
    "- Função `fun_2(l)`, com complexidade $O(n \\times log(n))$\n",
    "- Função `fun_3(l)`, com complexidade $O(n^3)$\n",
    "\n",
    "Para cada função, a lista `l` tem tamanho arbitrário, e não existe ordenação entre os valores."
   ]
  },
  {
   "cell_type": "code",
   "execution_count": 41,
   "metadata": {},
   "outputs": [],
   "source": [
    "def fun_1(l):\n",
    "    ''' O(log n) '''\n",
    "    #import time; time.sleep(.1) \n",
    "    for index in range(0, len(l), 3):\n",
    "        return l[index]"
   ]
  },
  {
   "cell_type": "code",
   "execution_count": 42,
   "metadata": {},
   "outputs": [],
   "source": [
    "def fun_2(l):\n",
    "    ''' O(n log n) '''\n",
    "    #import time; time.sleep(.2)\n",
    "    meio = len(l)//2\n",
    "    left_inf = l[:meio]  \n",
    "    right_inf = l[meio:]\n",
    "    \n",
    "    left = 0\n",
    "    right = 0\n",
    "    aux = 0\n",
    "    \n",
    "    while left < len(left_inf) and right < len(right_inf):\n",
    "        if left_inf[left] < right_inf[right]:\n",
    "            l[aux] = left_inf[left]\n",
    "            left += 1\n",
    "        else:\n",
    "            l[aux] = right_inf[right]\n",
    "            right += 1\n",
    "        aux += 1\n",
    "    \n",
    "    if left < len(left_inf):\n",
    "        del l[aux:]\n",
    "        l += left_inf[left:]\n",
    "    elif right < len(right_inf):\n",
    "        del l[aux:]\n",
    "        l += right_inf[right:]"
   ]
  },
  {
   "cell_type": "code",
   "execution_count": 43,
   "metadata": {},
   "outputs": [],
   "source": [
    "def fun_3(l):\n",
    "    ''' O(n^3) '''\n",
    "    import time; time.sleep(.3)"
   ]
  },
  {
   "cell_type": "markdown",
   "metadata": {},
   "source": [
    "As três funções vão ser testadas com um conjunto de listas de tamanhos diferentes. Os resultados devem ser comparáveis graficamente."
   ]
  },
  {
   "cell_type": "code",
   "execution_count": 44,
   "metadata": {},
   "outputs": [
    {
     "data": {
      "image/png": "[encoded data removed]",
      "text/plain": [
       "<Figure size 432x288 with 1 Axes>"
      ]
     },
     "metadata": {
      "needs_background": "light"
     },
     "output_type": "display_data"
    }
   ],
   "source": [
    "from matplotlib import pyplot as plt\n",
    "import random\n",
    "import timeit\n",
    "\n",
    "n = 100\n",
    "\n",
    "y_1 = []\n",
    "y_2 = []\n",
    "y_3 = []\n",
    "for i in range(0, n, 10):\n",
    "    l = random.sample(range(n), n)\n",
    "    started_at = timeit.default_timer()\n",
    "    fun_1(l)\n",
    "    f1_ended_at = timeit.default_timer()\n",
    "    f1_runtime = f1_ended_at - started_at\n",
    "    fun_2(l)\n",
    "    f2_ended_at = timeit.default_timer()\n",
    "    f2_runtime = f2_ended_at - f1_ended_at\n",
    "    fun_3(l)\n",
    "    f3_ended_at = timeit.default_timer()\n",
    "    f3_runtime = f3_ended_at - f2_ended_at\n",
    "    \n",
    "    y_1.append(f1_runtime)\n",
    "    y_2.append(f2_runtime)\n",
    "    y_3.append(f3_runtime)\n",
    "\n",
    "x = list(range(0, n, 10))\n",
    "plt.plot(x, y_1, label=\"fun_1\") \n",
    "plt.plot(x, y_2, label=\"fun_2\") \n",
    "plt.plot(x, y_3, label=\"fun_3\")\n",
    "plt.legend()\n",
    "plt.xlabel('n')\n",
    "plt.ylabel('time(s)')\n",
    "plt.show()"
   ]
  },
  {
   "cell_type": "markdown",
   "metadata": {},
   "source": [
    "#### Tarefa 4\n",
    "O seguinte algoritmo tem uma complexidade temporal $O(n)$, realize os ajustes necessários para alterar a complexidade deste algoritmo para $O(n+m)$ e para $O(n*n)$ respetivamente."
   ]
  },
  {
   "cell_type": "code",
   "execution_count": 24,
   "metadata": {},
   "outputs": [
    {
     "data": {
      "text/plain": [
       "25"
      ]
     },
     "execution_count": 24,
     "metadata": {},
     "output_type": "execute_result"
    }
   ],
   "source": [
    "def somar(n): \n",
    "    '''O(n)''' \n",
    "    var = 0\n",
    "    for i in range(0, n):\n",
    "        var = var + 1 "
   ]
  },
  {
   "cell_type": "code",
   "execution_count": 23,
   "metadata": {},
   "outputs": [
    {
     "data": {
      "text/plain": [
       "25"
      ]
     },
     "execution_count": 23,
     "metadata": {},
     "output_type": "execute_result"
    }
   ],
   "source": [
    "def somar_v2(n):\n",
    "    ''' O(n+m) '''\n",
    "    var = 0\n",
    "    m = 100\n",
    "    for i in range (0, m):\n",
    "        var = var + 1 \n",
    "\n",
    "    for i in range (0, n):\n",
    "        var = var + 1"
   ]
  },
  {
   "cell_type": "code",
   "execution_count": 22,
   "metadata": {},
   "outputs": [
    {
     "data": {
      "text/plain": [
       "25"
      ]
     },
     "execution_count": 22,
     "metadata": {},
     "output_type": "execute_result"
    }
   ],
   "source": [
    "def somar_v3(n):\n",
    "    ''' O(n*n) '''\n",
    "    var = 0 \n",
    "    for i in range(0,n):\n",
    "        for j in range(0,n):\n",
    "            var = var + 1"
   ]
  },
  {
   "cell_type": "markdown",
   "metadata": {},
   "source": [
    "#### Tarefa 5\n",
    "Desenvolva um algoritmo (função `m(l)`) sobre listas numéricas em que:\n",
    "- O melhor caso possui uma complexidade temporal de $O(n)$.\n",
    "- O pior caso possui uma complexidade temporal de $O(n^2)$.\n",
    "\n",
    "A lista `l` tem tamanho arbitrário, e não existe ordenação entre os valores.\n"
   ]
  },
  {
   "cell_type": "code",
   "execution_count": 15,
   "metadata": {},
   "outputs": [],
   "source": [
    "def m(l):\n",
    "    ''' Melhor caso: O(n)\n",
    "        Pior caso: O(n^2)  \n",
    "    '''\n"
   ]
  },
  {
   "cell_type": "markdown",
   "metadata": {},
   "source": [
    "### Regras\n",
    "- O trabalho deve ser realizado em grupo, previamente registado no *e-learning*.\n",
    "- O código produzido deverá estar disponível no repositório GitHub gerado pelo GitHub Classroom.\n",
    "  - Podem ser criados vários *branches*, de acordo com o organização que o grupo de trabalho considerar mais conveniente.\n",
    "  - Deve sempre existir um *branch* `main`, onde a versão final deverá ficar disponível.\n",
    "\n",
    "### Entrega\n",
    "A versão final do trabalho deve estar disponível na *branch* `main` do repositório até à hora limite de entrega. <span style=\"color: red\">Não serão considerados *commits* com data posterior à data limite.</span>\n",
    "\n",
    "A entrega deve também ser feita no *e-learning*, num ficheiro `zip` com todo o projeto."
   ]
  }
 ],
 "metadata": {
  "kernelspec": {
   "display_name": "Python 3",
   "language": "python",
   "name": "python3"
  },
  "language_info": {
   "codemirror_mode": {
    "name": "ipython",
    "version": 3
   },
   "file_extension": ".py",
   "mimetype": "text/x-python",
   "name": "python",
   "nbconvert_exporter": "python",
   "pygments_lexer": "ipython3",
   "version": "3.8.3"
  }
 },
 "nbformat": 4,
 "nbformat_minor": 2
}
